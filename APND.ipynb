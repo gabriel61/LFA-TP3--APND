{
 "cells": [
  {
   "cell_type": "markdown",
   "id": "c978e6a3",
   "metadata": {},
   "source": [
    "# LFA-TP3: Autômato de Pilha Não-Determinístico (APND)"
   ]
  },
  {
   "cell_type": "markdown",
   "id": "dbd0c481",
   "metadata": {},
   "source": [
    "Implemente um algoritmo que simule um APND. A entrada consiste da especificação de um APND e de um conjunto de palavras. A saída consiste de uma lista indicando ‘S’ caso o APND reconheça a palavra em questão e ‘N’ caso contrário. A palavra vazia (λ) será indicada pelo caractere *."
   ]
  },
  {
   "cell_type": "markdown",
   "id": "44ae4859",
   "metadata": {},
   "source": [
    "# Relatório + Código:"
   ]
  },
  {
   "cell_type": "markdown",
   "id": "69ad6c6a",
   "metadata": {},
   "source": [
    "O código começa solicitando as entradas iniciais que são os estados, símbolos do alfabeto, alfabeto da pilha e o número de transições."
   ]
  },
  {
   "cell_type": "code",
   "execution_count": 11,
   "id": "976dd291",
   "metadata": {},
   "outputs": [
    {
     "name": "stdout",
     "output_type": "stream",
     "text": [
      "0 1\n",
      "a b\n",
      "A\n",
      "3\n"
     ]
    }
   ],
   "source": [
    "estados = input().split(\" \")\n",
    "alfabeto = input().split(\" \")\n",
    "pilhaAlfabeto = input().split(\" \")\n",
    "transacoes = int(input())"
   ]
  },
  {
   "cell_type": "markdown",
   "id": "7f03699e",
   "metadata": {},
   "source": [
    "Como estrutura de dados, foi usado uma tabela hash para a tabela que contém as transiçoes do AFND.\n",
    "A tabela hash armazena um par chave-valor com complexidade de busca média de O(1)."
   ]
  },
  {
   "cell_type": "code",
   "execution_count": 12,
   "id": "b552accb",
   "metadata": {},
   "outputs": [],
   "source": [
    "dicionarioDeEstadosFuturos = {}"
   ]
  },
  {
   "cell_type": "markdown",
   "id": "cd4dbe07",
   "metadata": {},
   "source": [
    "É criado uma chave na tabela hash para cada estado do AFND."
   ]
  },
  {
   "cell_type": "code",
   "execution_count": 13,
   "id": "3132506d",
   "metadata": {},
   "outputs": [],
   "source": [
    "for estado in estados:\n",
    "    dicionarioDeEstadosFuturos[estado] = {}"
   ]
  },
  {
   "cell_type": "markdown",
   "id": "fa2c11db",
   "metadata": {},
   "source": [
    "Nesta etapa é adicionado as entradas das transições para cada estado."
   ]
  },
  {
   "cell_type": "code",
   "execution_count": 14,
   "id": "49ae2aec",
   "metadata": {},
   "outputs": [
    {
     "name": "stdout",
     "output_type": "stream",
     "text": [
      "0 a * 0 A\n",
      "0 * * 1 *\n",
      "1 b A 1 *\n"
     ]
    }
   ],
   "source": [
    "for i in range(0, transacoes):\n",
    "    quintupla = input().split(\" \")  # pegando a tripla\n",
    "    estadoFrom = quintupla[0]\n",
    "    letra = quintupla[1]\n",
    "    desempilha = quintupla[2]\n",
    "    estadoTo = quintupla[3]\n",
    "    empilha = quintupla[4]\n",
    "\n",
    "    if letra not in dicionarioDeEstadosFuturos[estadoFrom]:  # adiciona um estado a lista de estados futuros\n",
    "        dicionarioDeEstadosFuturos[estadoFrom][letra] = []\n",
    "\n",
    "    dicionarioDeEstadosFuturos[estadoFrom][letra].append([desempilha, estadoTo, empilha])"
   ]
  },
  {
   "cell_type": "markdown",
   "id": "69018309",
   "metadata": {},
   "source": [
    "Aqui é solicitado o estado inicial, lista de estados finais e palavras para serem reconhecidas.\n",
    "A lista de estados finais é armazenada também como uma tabela hash."
   ]
  },
  {
   "cell_type": "code",
   "execution_count": 15,
   "id": "3da16fbb",
   "metadata": {},
   "outputs": [
    {
     "name": "stdout",
     "output_type": "stream",
     "text": [
      "0\n",
      "1\n",
      "* ab ba abb aab\n"
     ]
    }
   ],
   "source": [
    "estadoInicial = input()\n",
    "estadosFinais = input().split(\" \")\n",
    "\n",
    "palavras = input().split(\" \")"
   ]
  },
  {
   "cell_type": "code",
   "execution_count": 16,
   "id": "8da7f869",
   "metadata": {},
   "outputs": [
    {
     "name": "stdout",
     "output_type": "stream",
     "text": [
      "S\n",
      "S\n",
      "N\n",
      "N\n",
      "N\n"
     ]
    }
   ],
   "source": [
    "for palavra in palavras:\n",
    "    pilhaEstadosAtuais = [(estadoInicial, [], palavra)]\n",
    "    flag = 0\n",
    "\n",
    "    while flag == 0 and len(palavra) > 0 and len(pilhaEstadosAtuais) > 0:\n",
    "        estado, pilha, palavraTemp = pilhaEstadosAtuais.pop()\n",
    "\n",
    "        if dicionarioDeEstadosFuturos[estado].get('*') and palavraTemp != '*':\n",
    "            triplas = dicionarioDeEstadosFuturos[estado].get('*')\n",
    "            for desempilha, estadoTo, empilha in triplas:\n",
    "                pilhaTemporaria = pilha.copy()\n",
    "\n",
    "                if desempilha != '*':\n",
    "                    if len(pilhaTemporaria) == 0:\n",
    "                        break\n",
    "                    else:\n",
    "                        topo = pilhaTemporaria.pop()\n",
    "                        if desempilha != topo:\n",
    "                            continue\n",
    "\n",
    "                if empilha != '*':\n",
    "                    for element in empilha:\n",
    "                        pilhaTemporaria.append(element)\n",
    "\n",
    "                pilhaEstadosAtuais.append([estadoTo, pilhaTemporaria, palavraTemp])\n",
    "\n",
    "        if len(palavraTemp) == 0:\n",
    "            if estado in estadosFinais and len(pilha) == 0:\n",
    "                flag = 1\n",
    "                break\n",
    "            else:\n",
    "                continue\n",
    "\n",
    "        palavraTemp2 = palavraTemp[1:]\n",
    "\n",
    "        if dicionarioDeEstadosFuturos[estado].get(palavraTemp[0]):\n",
    "            triplas = dicionarioDeEstadosFuturos[estado].get(palavraTemp[0])\n",
    "            for desempilha, estadoTo, empilha in triplas:\n",
    "                pilhaTemporaria = pilha.copy()\n",
    "\n",
    "                if desempilha != '*':\n",
    "                    if len(pilhaTemporaria) == 0:\n",
    "                        break\n",
    "                    else:\n",
    "                        topo = pilhaTemporaria.pop()\n",
    "                        if desempilha != topo:\n",
    "                            continue\n",
    "\n",
    "                if empilha != '*':\n",
    "                    for element in empilha:\n",
    "                        pilhaTemporaria.append(element)\n",
    "\n",
    "                pilhaEstadosAtuais.append([estadoTo, pilhaTemporaria, palavraTemp2])\n",
    "\n",
    "    if flag:\n",
    "        print('S')\n",
    "    else:\n",
    "        print('N')"
   ]
  }
 ],
 "metadata": {
  "kernelspec": {
   "display_name": "Python 3 (ipykernel)",
   "language": "python",
   "name": "python3"
  },
  "language_info": {
   "codemirror_mode": {
    "name": "ipython",
    "version": 3
   },
   "file_extension": ".py",
   "mimetype": "text/x-python",
   "name": "python",
   "nbconvert_exporter": "python",
   "pygments_lexer": "ipython3",
   "version": "3.9.7"
  }
 },
 "nbformat": 4,
 "nbformat_minor": 5
}
